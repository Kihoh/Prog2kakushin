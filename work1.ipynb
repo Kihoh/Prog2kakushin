{
  "nbformat": 4,
  "nbformat_minor": 0,
  "metadata": {
    "colab": {
      "provenance": [],
      "authorship_tag": "ABX9TyNMM37s8GtpEygeXWyYXyir",
      "include_colab_link": true
    },
    "kernelspec": {
      "name": "python3",
      "display_name": "Python 3"
    },
    "language_info": {
      "name": "python"
    }
  },
  "cells": [
    {
      "cell_type": "markdown",
      "metadata": {
        "id": "view-in-github",
        "colab_type": "text"
      },
      "source": [
        "<a href=\"https://colab.research.google.com/github/Kihoh/Prog2kakushin/blob/main/work1.ipynb\" target=\"_parent\"><img src=\"https://colab.research.google.com/assets/colab-badge.svg\" alt=\"Open In Colab\"/></a>"
      ]
    },
    {
      "cell_type": "markdown",
      "source": [
        "# プログラミングⅡ　第１２回　(12/22)　pandasを用いた課題プログラムの作成\n",
        "家計消費についてのデータをもとに，特定食品の消費金額上位５都道府県とその消費金額を表示するプログラムを作成する．\n",
        "\n",
        "food_spending.csvには総務省統計局「家計調査」から，47の都道府県庁所在市別，二人以上の世帯の１世帯当たり，品目別年間支出金額を収録している．収録しているデータは，2019年から2021年までの平均値である．\n",
        "\n",
        "独立行政法人 統計センター SSDSE-C-2022 (https://www.nstac.go.jp/use/literacy/SSDSE/) を加工して作成"
      ],
      "metadata": {
        "id": "Aqc33w5Bvszs"
      }
    },
    {
      "cell_type": "code",
      "source": [
        "!wget \"https://drive.google.com/uc?export=download&id=1fvUq8OwfM-1itvO6hNfyHm3G-9yl1kqj\" -O food_spending.csv\n",
        "!apt install nkf\n",
        "!nkf -g food_spending.csv\n",
        "!nkf -w --overwrite food_spending.csv\n",
        "!nkf -g food_spending.csv\n"
      ],
      "metadata": {
        "colab": {
          "base_uri": "https://localhost:8080/"
        },
        "id": "c1gHMET5sbpX",
        "outputId": "160f7375-f039-4693-b470-0772390b9de7"
      },
      "execution_count": 30,
      "outputs": [
        {
          "output_type": "stream",
          "name": "stdout",
          "text": [
            "--2022-12-22 08:02:58--  https://drive.google.com/uc?export=download&id=1fvUq8OwfM-1itvO6hNfyHm3G-9yl1kqj\n",
            "Resolving drive.google.com (drive.google.com)... 108.177.125.100, 108.177.125.113, 108.177.125.139, ...\n",
            "Connecting to drive.google.com (drive.google.com)|108.177.125.100|:443... connected.\n",
            "HTTP request sent, awaiting response... 303 See Other\n",
            "Location: https://doc-0g-34-docs.googleusercontent.com/docs/securesc/ha0ro937gcuc7l7deffksulhg5h7mbp1/4u49q3mh1708b33joobjl1jjo7ecrojk/1671696150000/05843304165557471948/*/1fvUq8OwfM-1itvO6hNfyHm3G-9yl1kqj?e=download&uuid=2c1de856-12cf-4597-951d-ea396b74b46f [following]\n",
            "Warning: wildcards not supported in HTTP.\n",
            "--2022-12-22 08:02:58--  https://doc-0g-34-docs.googleusercontent.com/docs/securesc/ha0ro937gcuc7l7deffksulhg5h7mbp1/4u49q3mh1708b33joobjl1jjo7ecrojk/1671696150000/05843304165557471948/*/1fvUq8OwfM-1itvO6hNfyHm3G-9yl1kqj?e=download&uuid=2c1de856-12cf-4597-951d-ea396b74b46f\n",
            "Resolving doc-0g-34-docs.googleusercontent.com (doc-0g-34-docs.googleusercontent.com)... 108.177.125.132, 2404:6800:4008:c01::84\n",
            "Connecting to doc-0g-34-docs.googleusercontent.com (doc-0g-34-docs.googleusercontent.com)|108.177.125.132|:443... connected.\n",
            "HTTP request sent, awaiting response... 200 OK\n",
            "Length: 55738 (54K) [text/csv]\n",
            "Saving to: ‘food_spending.csv’\n",
            "\n",
            "food_spending.csv   100%[===================>]  54.43K  --.-KB/s    in 0.001s  \n",
            "\n",
            "2022-12-22 08:02:59 (63.4 MB/s) - ‘food_spending.csv’ saved [55738/55738]\n",
            "\n",
            "Reading package lists... Done\n",
            "Building dependency tree       \n",
            "Reading state information... Done\n",
            "nkf is already the newest version (1:2.1.4-1ubuntu2).\n",
            "The following package was automatically installed and is no longer required:\n",
            "  libnvidia-common-460\n",
            "Use 'apt autoremove' to remove it.\n",
            "0 upgraded, 0 newly installed, 0 to remove and 20 not upgraded.\n",
            "Shift_JIS\n",
            "UTF-8\n"
          ]
        }
      ]
    },
    {
      "cell_type": "code",
      "source": [
        "import pandas as pd\n",
        "\n",
        "df = pd.read_csv('food_spending.csv') #csvファイルを読み込む\n",
        "print('特定食品の消費金額上位５都道府県とその消費金額を表示します．単位は円です．')\n",
        "print('品目一覧：', list(df.columns.values[2:])) #ヘッダの内必要な部分だけをリストにして表示する\n",
        "item = input('上位５都道府県を表示したい品目を，上記の品目一覧から選択して入力してください：')\n",
        "df_total = df.sort_values(f'{item}', ascending=False) #選択した品目で降順ソートを行う\n",
        "df_total[:5][['市', f'{item}']] #上位５都道府県について市の名前と当該品目の額を表示する"
      ],
      "metadata": {
        "colab": {
          "base_uri": "https://localhost:8080/",
          "height": 281
        },
        "id": "6u11FuUOhdty",
        "outputId": "150570e6-2429-467f-d8aa-9c8356aa1606"
      },
      "execution_count": 39,
      "outputs": [
        {
          "name": "stdout",
          "output_type": "stream",
          "text": [
            "特定食品の消費金額上位５都道府県とその消費金額を表示します．単位は円です．\n",
            "品目一覧： ['食料（合計）', '01\\u3000穀類', '米', '食パン', '他のパン', '生うどん・そば', '乾うどん・そば', 'パスタ', '中華麺', 'カップ麺', '即席麺', '他の麺類', '小麦粉', 'もち', '他の穀類のその他', '02\\u3000魚介類', 'まぐろ', 'あじ', 'いわし', 'かつお', 'かれい', 'さけ', 'さば', 'さんま', 'たい', 'ぶり', 'いか', 'たこ', 'えび', 'かに', '他の鮮魚', 'さしみ盛合わせ', 'あさり', 'しじみ', 'かき（貝）', 'ほたて貝', '他の貝', '塩さけ', 'たらこ', 'しらす干し', '干しあじ', '他の塩干魚介', '揚げかまぼこ', 'ちくわ', 'かまぼこ', '他の魚肉練製品', 'かつお節・削り節', '魚介の漬物', '魚介のつくだ煮', '魚介の缶詰', '他の魚介加工品のその他', '03\\u3000肉類', '牛肉', '豚肉', '鶏肉', '合いびき肉', '他の生鮮肉', 'ハム', 'ソーセージ', 'ベーコン', '他の加工肉', '04\\u3000乳卵類', '牛乳', '粉ミルク', 'ヨーグルト', 'バター', 'チーズ', '他の乳製品', '卵', '05\\u3000野菜・海藻', 'キャベツ', 'ほうれんそう', 'はくさい', 'ねぎ', 'レタス', 'ブロッコリー', 'もやし', '他の葉茎菜', 'さつまいも', 'じゃがいも', 'さといも', 'だいこん', 'にんじん', 'ごぼう', 'たまねぎ', 'れんこん', 'たけのこ', '他の根菜', 'さやまめ', 'かぼちゃ', 'きゅうり', 'なす', 'トマト', 'ピーマン', '生しいたけ', 'しめじ', 'えのきたけ', '他のきのこ', '他の野菜のその他', '豆類', '干ししいたけ', '干しのり', 'わかめ', 'こんぶ', '他の乾物・海藻', '豆腐', '油揚げ・がんもどき', '納豆', '他の大豆製品', 'こんにゃく', '梅干し', 'だいこん漬', 'はくさい漬', '他の野菜の漬物', 'こんぶつくだ煮', '他の野菜・海藻の佃煮', '他の野菜・海藻加工品のその他', '06\\u3000果物', 'りんご', 'みかん', 'オレンジ', '他の柑きつ類', '梨', 'ぶどう', '柿', '桃', 'すいか', 'メロン', 'いちご', 'バナナ', 'キウイフルーツ', '他の果物', '果物加工品', '07\\u3000油脂・調味料', '食用油', 'マーガリン', '食塩', 'しょう油', 'みそ', '砂糖', '酢', 'ソース', 'ケチャップ', 'マヨネーズ・マヨネーズ風調味料', 'ドレッシング', 'ジャム', 'カレールウ', '乾燥スープ', '風味調味料', 'ふりかけ', 'つゆ・たれ', '他の調味料', '08\\u3000菓子類', 'ようかん', 'まんじゅう', '他の和生菓子', 'カステラ', 'ケーキ', 'ゼリー', 'プリン', '他の洋生菓子', 'せんべい', 'ビスケット', 'スナック菓子', 'キャンデー', 'チョコレート', 'チョコレート菓子', 'アイスクリーム・シャーベット', '他の菓子', '09\\u3000調理食品', '弁当', 'すし（弁当）', 'おにぎり・その他', '調理パン', '他の主食的調理食品', 'うなぎのかば焼き', 'サラダ', 'コロッケ', 'カツレツ', '天ぷら・フライ', 'しゅうまい', 'ぎょうざ', 'やきとり', 'ハンバーグ', '冷凍調理食品', 'そうざい材料セット', '他の調理食品のその他', '10\\u3000飲料', '緑茶', '紅茶', '他の茶葉', '茶飲料', 'コーヒー', 'コーヒー飲料', 'ココア・ココア飲料', '果実・野菜ジュース', '炭酸飲料', '乳酸菌飲料', '乳飲料', 'ミネラルウォーター', 'スポーツドリンク', '他の飲料のその他', '11\\u3000酒類', '清酒', '焼酎', 'ビール', 'ウイスキー', 'ワイン', '発泡酒・ビール風アルコール飲料', 'チューハイ・カクテル', '他の酒', '12\\u3000外食', '日本そば・うどん', '中華そば', '他の麺類外食', 'すし（外食）', '和食', '中華食', '洋食', '焼肉', 'ハンバーガー', '他の主食的外食', '喫茶代', '飲酒代', '学校給食']\n",
            "上位５都道府県を表示したい品目を，上記の品目一覧から選択して入力してください：卵\n"
          ]
        },
        {
          "output_type": "execute_result",
          "data": {
            "text/plain": [
              "      市      卵\n",
              "6   福島市  12074\n",
              "28  奈良市  11697\n",
              "30  鳥取市  11474\n",
              "24  大津市  11208\n",
              "38  高知市  11132"
            ],
            "text/html": [
              "\n",
              "  <div id=\"df-d11e6984-2a43-4bfe-bb34-d61a6f27b3f5\">\n",
              "    <div class=\"colab-df-container\">\n",
              "      <div>\n",
              "<style scoped>\n",
              "    .dataframe tbody tr th:only-of-type {\n",
              "        vertical-align: middle;\n",
              "    }\n",
              "\n",
              "    .dataframe tbody tr th {\n",
              "        vertical-align: top;\n",
              "    }\n",
              "\n",
              "    .dataframe thead th {\n",
              "        text-align: right;\n",
              "    }\n",
              "</style>\n",
              "<table border=\"1\" class=\"dataframe\">\n",
              "  <thead>\n",
              "    <tr style=\"text-align: right;\">\n",
              "      <th></th>\n",
              "      <th>市</th>\n",
              "      <th>卵</th>\n",
              "    </tr>\n",
              "  </thead>\n",
              "  <tbody>\n",
              "    <tr>\n",
              "      <th>6</th>\n",
              "      <td>福島市</td>\n",
              "      <td>12074</td>\n",
              "    </tr>\n",
              "    <tr>\n",
              "      <th>28</th>\n",
              "      <td>奈良市</td>\n",
              "      <td>11697</td>\n",
              "    </tr>\n",
              "    <tr>\n",
              "      <th>30</th>\n",
              "      <td>鳥取市</td>\n",
              "      <td>11474</td>\n",
              "    </tr>\n",
              "    <tr>\n",
              "      <th>24</th>\n",
              "      <td>大津市</td>\n",
              "      <td>11208</td>\n",
              "    </tr>\n",
              "    <tr>\n",
              "      <th>38</th>\n",
              "      <td>高知市</td>\n",
              "      <td>11132</td>\n",
              "    </tr>\n",
              "  </tbody>\n",
              "</table>\n",
              "</div>\n",
              "      <button class=\"colab-df-convert\" onclick=\"convertToInteractive('df-d11e6984-2a43-4bfe-bb34-d61a6f27b3f5')\"\n",
              "              title=\"Convert this dataframe to an interactive table.\"\n",
              "              style=\"display:none;\">\n",
              "        \n",
              "  <svg xmlns=\"http://www.w3.org/2000/svg\" height=\"24px\"viewBox=\"0 0 24 24\"\n",
              "       width=\"24px\">\n",
              "    <path d=\"M0 0h24v24H0V0z\" fill=\"none\"/>\n",
              "    <path d=\"M18.56 5.44l.94 2.06.94-2.06 2.06-.94-2.06-.94-.94-2.06-.94 2.06-2.06.94zm-11 1L8.5 8.5l.94-2.06 2.06-.94-2.06-.94L8.5 2.5l-.94 2.06-2.06.94zm10 10l.94 2.06.94-2.06 2.06-.94-2.06-.94-.94-2.06-.94 2.06-2.06.94z\"/><path d=\"M17.41 7.96l-1.37-1.37c-.4-.4-.92-.59-1.43-.59-.52 0-1.04.2-1.43.59L10.3 9.45l-7.72 7.72c-.78.78-.78 2.05 0 2.83L4 21.41c.39.39.9.59 1.41.59.51 0 1.02-.2 1.41-.59l7.78-7.78 2.81-2.81c.8-.78.8-2.07 0-2.86zM5.41 20L4 18.59l7.72-7.72 1.47 1.35L5.41 20z\"/>\n",
              "  </svg>\n",
              "      </button>\n",
              "      \n",
              "  <style>\n",
              "    .colab-df-container {\n",
              "      display:flex;\n",
              "      flex-wrap:wrap;\n",
              "      gap: 12px;\n",
              "    }\n",
              "\n",
              "    .colab-df-convert {\n",
              "      background-color: #E8F0FE;\n",
              "      border: none;\n",
              "      border-radius: 50%;\n",
              "      cursor: pointer;\n",
              "      display: none;\n",
              "      fill: #1967D2;\n",
              "      height: 32px;\n",
              "      padding: 0 0 0 0;\n",
              "      width: 32px;\n",
              "    }\n",
              "\n",
              "    .colab-df-convert:hover {\n",
              "      background-color: #E2EBFA;\n",
              "      box-shadow: 0px 1px 2px rgba(60, 64, 67, 0.3), 0px 1px 3px 1px rgba(60, 64, 67, 0.15);\n",
              "      fill: #174EA6;\n",
              "    }\n",
              "\n",
              "    [theme=dark] .colab-df-convert {\n",
              "      background-color: #3B4455;\n",
              "      fill: #D2E3FC;\n",
              "    }\n",
              "\n",
              "    [theme=dark] .colab-df-convert:hover {\n",
              "      background-color: #434B5C;\n",
              "      box-shadow: 0px 1px 3px 1px rgba(0, 0, 0, 0.15);\n",
              "      filter: drop-shadow(0px 1px 2px rgba(0, 0, 0, 0.3));\n",
              "      fill: #FFFFFF;\n",
              "    }\n",
              "  </style>\n",
              "\n",
              "      <script>\n",
              "        const buttonEl =\n",
              "          document.querySelector('#df-d11e6984-2a43-4bfe-bb34-d61a6f27b3f5 button.colab-df-convert');\n",
              "        buttonEl.style.display =\n",
              "          google.colab.kernel.accessAllowed ? 'block' : 'none';\n",
              "\n",
              "        async function convertToInteractive(key) {\n",
              "          const element = document.querySelector('#df-d11e6984-2a43-4bfe-bb34-d61a6f27b3f5');\n",
              "          const dataTable =\n",
              "            await google.colab.kernel.invokeFunction('convertToInteractive',\n",
              "                                                     [key], {});\n",
              "          if (!dataTable) return;\n",
              "\n",
              "          const docLinkHtml = 'Like what you see? Visit the ' +\n",
              "            '<a target=\"_blank\" href=https://colab.research.google.com/notebooks/data_table.ipynb>data table notebook</a>'\n",
              "            + ' to learn more about interactive tables.';\n",
              "          element.innerHTML = '';\n",
              "          dataTable['output_type'] = 'display_data';\n",
              "          await google.colab.output.renderOutput(dataTable, element);\n",
              "          const docLink = document.createElement('div');\n",
              "          docLink.innerHTML = docLinkHtml;\n",
              "          element.appendChild(docLink);\n",
              "        }\n",
              "      </script>\n",
              "    </div>\n",
              "  </div>\n",
              "  "
            ]
          },
          "metadata": {},
          "execution_count": 39
        }
      ]
    }
  ]
}