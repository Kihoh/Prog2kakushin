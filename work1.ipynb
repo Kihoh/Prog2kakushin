{
  "nbformat": 4,
  "nbformat_minor": 0,
  "metadata": {
    "colab": {
      "provenance": [],
      "authorship_tag": "ABX9TyMdbiE9cvhHjBsXzrBvEe8Z",
      "include_colab_link": true
    },
    "kernelspec": {
      "name": "python3",
      "display_name": "Python 3"
    },
    "language_info": {
      "name": "python"
    }
  },
  "cells": [
    {
      "cell_type": "markdown",
      "metadata": {
        "id": "view-in-github",
        "colab_type": "text"
      },
      "source": [
        "<a href=\"https://colab.research.google.com/github/Kihoh/Prog2kakushin/blob/main/work1.ipynb\" target=\"_parent\"><img src=\"https://colab.research.google.com/assets/colab-badge.svg\" alt=\"Open In Colab\"/></a>"
      ]
    },
    {
      "cell_type": "markdown",
      "source": [
        "# プログラミングⅡ　第１２回　(12/22)　pandasを用いた課題プログラムの作成\n",
        "家計消費についてのデータをもとに，特定食品の消費金額上位５都道府県とその消費金額を表示するプログラムを作成する．\n",
        "\n",
        "独立行政法人 統計センター SSDSE-C-2022 (https://www.nstac.go.jp/use/literacy/SSDSE/) を加工して作成"
      ],
      "metadata": {
        "id": "Aqc33w5Bvszs"
      }
    },
    {
      "cell_type": "code",
      "execution_count": null,
      "metadata": {
        "id": "yam28u9trdEr"
      },
      "outputs": [],
      "source": []
    }
  ]
}