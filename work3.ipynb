{
  "nbformat": 4,
  "nbformat_minor": 0,
  "metadata": {
    "colab": {
      "provenance": [],
      "authorship_tag": "ABX9TyO+x3xyPndMY1xqAE07j+bN",
      "include_colab_link": true
    },
    "kernelspec": {
      "name": "python3",
      "display_name": "Python 3"
    },
    "language_info": {
      "name": "python"
    }
  },
  "cells": [
    {
      "cell_type": "markdown",
      "metadata": {
        "id": "view-in-github",
        "colab_type": "text"
      },
      "source": [
        "<a href=\"https://colab.research.google.com/github/Kihoh/Prog2kakushin/blob/main/work3.ipynb\" target=\"_parent\"><img src=\"https://colab.research.google.com/assets/colab-badge.svg\" alt=\"Open In Colab\"/></a>"
      ]
    },
    {
      "cell_type": "markdown",
      "source": [
        "# プログラミングⅡ　第１４回　(1/19)　turtleあるいはopencvを用いた課題プログラムの作成\n",
        "\n",
        "Turtleライブラリを使用してコッホ曲線を描く関数を定義し，コッホ雪片を描写するプログラムを作成する"
      ],
      "metadata": {
        "id": "qz74EVKowRNT"
      }
    },
    {
      "cell_type": "code",
      "execution_count": null,
      "metadata": {
        "id": "c3W4DYzesREf"
      },
      "outputs": [],
      "source": []
    }
  ]
}