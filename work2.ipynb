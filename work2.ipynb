{
  "nbformat": 4,
  "nbformat_minor": 0,
  "metadata": {
    "colab": {
      "provenance": [],
      "authorship_tag": "ABX9TyPQBq6e/YWbbM6Om2c3BX8h",
      "include_colab_link": true
    },
    "kernelspec": {
      "name": "python3",
      "display_name": "Python 3"
    },
    "language_info": {
      "name": "python"
    }
  },
  "cells": [
    {
      "cell_type": "markdown",
      "metadata": {
        "id": "view-in-github",
        "colab_type": "text"
      },
      "source": [
        "<a href=\"https://colab.research.google.com/github/Kihoh/Prog2kakushin/blob/main/work2.ipynb\" target=\"_parent\"><img src=\"https://colab.research.google.com/assets/colab-badge.svg\" alt=\"Open In Colab\"/></a>"
      ]
    },
    {
      "cell_type": "markdown",
      "source": [
        "# プログラミングⅡ　第１３回　(1/12)　numpyを用いた課題プログラムの作成\n",
        "\n",
        "指数関数y=e^xとそのマクローリン展開を次数ごとに６次まで１つのグラフに表示し，近似の様子を可視化するプログラムを作成する．"
      ],
      "metadata": {
        "id": "WoJ7B7zIwFZz"
      }
    },
    {
      "cell_type": "code",
      "execution_count": null,
      "metadata": {
        "id": "rLWAl1XwsB54"
      },
      "outputs": [],
      "source": []
    }
  ]
}